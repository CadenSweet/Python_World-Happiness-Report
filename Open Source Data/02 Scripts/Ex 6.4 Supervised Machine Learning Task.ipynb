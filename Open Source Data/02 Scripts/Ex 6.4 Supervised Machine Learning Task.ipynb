{
 "cells": [
  {
   "cell_type": "markdown",
   "id": "34e9398a",
   "metadata": {},
   "source": [
    "### Importing libraries"
   ]
  },
  {
   "cell_type": "code",
   "execution_count": 1,
   "id": "4cea5e2b",
   "metadata": {},
   "outputs": [],
   "source": [
    "# improting libraries and scikit-learn\n",
    "\n",
    "import pandas as pd\n",
    "import numpy as np\n",
    "import seaborn as sns\n",
    "import matplotlib.pyplot as plt\n",
    "import matplotlib\n",
    "import os\n",
    "import sklearn\n",
    "from sklearn.model_selection import train_test_split\n",
    "from sklearn.linear_model import LinearRegression\n",
    "from sklearn.metrics import mean_squared_error, r2_score"
   ]
  },
  {
   "cell_type": "markdown",
   "id": "69a75ca9",
   "metadata": {},
   "source": [
    "### Importing data set and wrangling it"
   ]
  },
  {
   "cell_type": "code",
   "execution_count": 2,
   "id": "71e9e605",
   "metadata": {},
   "outputs": [],
   "source": [
    "# Define path\n",
    "\n",
    "path = r\"C:\\Users\\caden\\OneDrive\\Desktop\\Open Source Data Final Project\""
   ]
  },
  {
   "cell_type": "code",
   "execution_count": 5,
   "id": "7b68355d",
   "metadata": {},
   "outputs": [],
   "source": [
    "# Import Data Set\n",
    "\n",
    "df = pd.read_csv(os.path.join(path, '02 Data', 'Prepared', 'Merged.csv'), index_col = False)"
   ]
  },
  {
   "cell_type": "code",
   "execution_count": 6,
   "id": "04749e88",
   "metadata": {},
   "outputs": [
    {
     "data": {
      "text/html": [
       "<div>\n",
       "<style scoped>\n",
       "    .dataframe tbody tr th:only-of-type {\n",
       "        vertical-align: middle;\n",
       "    }\n",
       "\n",
       "    .dataframe tbody tr th {\n",
       "        vertical-align: top;\n",
       "    }\n",
       "\n",
       "    .dataframe thead th {\n",
       "        text-align: right;\n",
       "    }\n",
       "</style>\n",
       "<table border=\"1\" class=\"dataframe\">\n",
       "  <thead>\n",
       "    <tr style=\"text-align: right;\">\n",
       "      <th></th>\n",
       "      <th>Year</th>\n",
       "      <th>Country</th>\n",
       "      <th>Happiness Rank</th>\n",
       "      <th>Happiness Score</th>\n",
       "      <th>Economy (GDP per Capita)</th>\n",
       "      <th>Social Support</th>\n",
       "      <th>Health (Life Expectancy)</th>\n",
       "      <th>Freedom</th>\n",
       "      <th>Trust (Government Corruption)</th>\n",
       "      <th>Generosity</th>\n",
       "      <th>Dystopia Residual</th>\n",
       "    </tr>\n",
       "  </thead>\n",
       "  <tbody>\n",
       "    <tr>\n",
       "      <th>0</th>\n",
       "      <td>2015</td>\n",
       "      <td>Switzerland</td>\n",
       "      <td>1</td>\n",
       "      <td>7.587</td>\n",
       "      <td>1.397</td>\n",
       "      <td>1.350</td>\n",
       "      <td>0.941</td>\n",
       "      <td>0.666</td>\n",
       "      <td>0.420</td>\n",
       "      <td>0.297</td>\n",
       "      <td>2.517</td>\n",
       "    </tr>\n",
       "    <tr>\n",
       "      <th>1</th>\n",
       "      <td>2015</td>\n",
       "      <td>Iceland</td>\n",
       "      <td>2</td>\n",
       "      <td>7.561</td>\n",
       "      <td>1.302</td>\n",
       "      <td>1.402</td>\n",
       "      <td>0.948</td>\n",
       "      <td>0.629</td>\n",
       "      <td>0.141</td>\n",
       "      <td>0.436</td>\n",
       "      <td>2.702</td>\n",
       "    </tr>\n",
       "    <tr>\n",
       "      <th>2</th>\n",
       "      <td>2015</td>\n",
       "      <td>Denmark</td>\n",
       "      <td>3</td>\n",
       "      <td>7.527</td>\n",
       "      <td>1.325</td>\n",
       "      <td>1.361</td>\n",
       "      <td>0.875</td>\n",
       "      <td>0.649</td>\n",
       "      <td>0.484</td>\n",
       "      <td>0.341</td>\n",
       "      <td>2.492</td>\n",
       "    </tr>\n",
       "    <tr>\n",
       "      <th>3</th>\n",
       "      <td>2015</td>\n",
       "      <td>Norway</td>\n",
       "      <td>4</td>\n",
       "      <td>7.522</td>\n",
       "      <td>1.459</td>\n",
       "      <td>1.331</td>\n",
       "      <td>0.885</td>\n",
       "      <td>0.670</td>\n",
       "      <td>0.365</td>\n",
       "      <td>0.347</td>\n",
       "      <td>2.465</td>\n",
       "    </tr>\n",
       "    <tr>\n",
       "      <th>4</th>\n",
       "      <td>2015</td>\n",
       "      <td>Canada</td>\n",
       "      <td>5</td>\n",
       "      <td>7.427</td>\n",
       "      <td>1.326</td>\n",
       "      <td>1.323</td>\n",
       "      <td>0.906</td>\n",
       "      <td>0.633</td>\n",
       "      <td>0.330</td>\n",
       "      <td>0.458</td>\n",
       "      <td>2.452</td>\n",
       "    </tr>\n",
       "  </tbody>\n",
       "</table>\n",
       "</div>"
      ],
      "text/plain": [
       "   Year      Country  Happiness Rank  Happiness Score  \\\n",
       "0  2015  Switzerland               1            7.587   \n",
       "1  2015      Iceland               2            7.561   \n",
       "2  2015      Denmark               3            7.527   \n",
       "3  2015       Norway               4            7.522   \n",
       "4  2015       Canada               5            7.427   \n",
       "\n",
       "   Economy (GDP per Capita)  Social Support  Health (Life Expectancy)  \\\n",
       "0                     1.397           1.350                     0.941   \n",
       "1                     1.302           1.402                     0.948   \n",
       "2                     1.325           1.361                     0.875   \n",
       "3                     1.459           1.331                     0.885   \n",
       "4                     1.326           1.323                     0.906   \n",
       "\n",
       "   Freedom  Trust (Government Corruption)  Generosity  Dystopia Residual  \n",
       "0    0.666                          0.420       0.297              2.517  \n",
       "1    0.629                          0.141       0.436              2.702  \n",
       "2    0.649                          0.484       0.341              2.492  \n",
       "3    0.670                          0.365       0.347              2.465  \n",
       "4    0.633                          0.330       0.458              2.452  "
      ]
     },
     "execution_count": 6,
     "metadata": {},
     "output_type": "execute_result"
    }
   ],
   "source": [
    "df.head()"
   ]
  },
  {
   "cell_type": "code",
   "execution_count": 7,
   "id": "91e1c626",
   "metadata": {},
   "outputs": [],
   "source": [
    "# Rename columns \n",
    "\n",
    "df.rename(columns = {'Happiness Rank' : 'Rank', 'Happiness Score': 'Score', 'Economy (GDP per Capita)': 'Economy', 'Health (Life Expectancy)': 'Health', 'Trust (Government Corruption)': 'Trust' }, inplace = True)"
   ]
  },
  {
   "cell_type": "code",
   "execution_count": 8,
   "id": "290c61a7",
   "metadata": {},
   "outputs": [
    {
     "data": {
      "text/html": [
       "<div>\n",
       "<style scoped>\n",
       "    .dataframe tbody tr th:only-of-type {\n",
       "        vertical-align: middle;\n",
       "    }\n",
       "\n",
       "    .dataframe tbody tr th {\n",
       "        vertical-align: top;\n",
       "    }\n",
       "\n",
       "    .dataframe thead th {\n",
       "        text-align: right;\n",
       "    }\n",
       "</style>\n",
       "<table border=\"1\" class=\"dataframe\">\n",
       "  <thead>\n",
       "    <tr style=\"text-align: right;\">\n",
       "      <th></th>\n",
       "      <th>Year</th>\n",
       "      <th>Country</th>\n",
       "      <th>Rank</th>\n",
       "      <th>Score</th>\n",
       "      <th>Economy</th>\n",
       "      <th>Social Support</th>\n",
       "      <th>Health</th>\n",
       "      <th>Freedom</th>\n",
       "      <th>Trust</th>\n",
       "      <th>Generosity</th>\n",
       "      <th>Dystopia Residual</th>\n",
       "    </tr>\n",
       "  </thead>\n",
       "  <tbody>\n",
       "    <tr>\n",
       "      <th>0</th>\n",
       "      <td>2015</td>\n",
       "      <td>Switzerland</td>\n",
       "      <td>1</td>\n",
       "      <td>7.587</td>\n",
       "      <td>1.397</td>\n",
       "      <td>1.350</td>\n",
       "      <td>0.941</td>\n",
       "      <td>0.666</td>\n",
       "      <td>0.420</td>\n",
       "      <td>0.297</td>\n",
       "      <td>2.517</td>\n",
       "    </tr>\n",
       "    <tr>\n",
       "      <th>1</th>\n",
       "      <td>2015</td>\n",
       "      <td>Iceland</td>\n",
       "      <td>2</td>\n",
       "      <td>7.561</td>\n",
       "      <td>1.302</td>\n",
       "      <td>1.402</td>\n",
       "      <td>0.948</td>\n",
       "      <td>0.629</td>\n",
       "      <td>0.141</td>\n",
       "      <td>0.436</td>\n",
       "      <td>2.702</td>\n",
       "    </tr>\n",
       "    <tr>\n",
       "      <th>2</th>\n",
       "      <td>2015</td>\n",
       "      <td>Denmark</td>\n",
       "      <td>3</td>\n",
       "      <td>7.527</td>\n",
       "      <td>1.325</td>\n",
       "      <td>1.361</td>\n",
       "      <td>0.875</td>\n",
       "      <td>0.649</td>\n",
       "      <td>0.484</td>\n",
       "      <td>0.341</td>\n",
       "      <td>2.492</td>\n",
       "    </tr>\n",
       "    <tr>\n",
       "      <th>3</th>\n",
       "      <td>2015</td>\n",
       "      <td>Norway</td>\n",
       "      <td>4</td>\n",
       "      <td>7.522</td>\n",
       "      <td>1.459</td>\n",
       "      <td>1.331</td>\n",
       "      <td>0.885</td>\n",
       "      <td>0.670</td>\n",
       "      <td>0.365</td>\n",
       "      <td>0.347</td>\n",
       "      <td>2.465</td>\n",
       "    </tr>\n",
       "    <tr>\n",
       "      <th>4</th>\n",
       "      <td>2015</td>\n",
       "      <td>Canada</td>\n",
       "      <td>5</td>\n",
       "      <td>7.427</td>\n",
       "      <td>1.326</td>\n",
       "      <td>1.323</td>\n",
       "      <td>0.906</td>\n",
       "      <td>0.633</td>\n",
       "      <td>0.330</td>\n",
       "      <td>0.458</td>\n",
       "      <td>2.452</td>\n",
       "    </tr>\n",
       "  </tbody>\n",
       "</table>\n",
       "</div>"
      ],
      "text/plain": [
       "   Year      Country  Rank  Score  Economy  Social Support  Health  Freedom  \\\n",
       "0  2015  Switzerland     1  7.587    1.397           1.350   0.941    0.666   \n",
       "1  2015      Iceland     2  7.561    1.302           1.402   0.948    0.629   \n",
       "2  2015      Denmark     3  7.527    1.325           1.361   0.875    0.649   \n",
       "3  2015       Norway     4  7.522    1.459           1.331   0.885    0.670   \n",
       "4  2015       Canada     5  7.427    1.326           1.323   0.906    0.633   \n",
       "\n",
       "   Trust  Generosity  Dystopia Residual  \n",
       "0  0.420       0.297              2.517  \n",
       "1  0.141       0.436              2.702  \n",
       "2  0.484       0.341              2.492  \n",
       "3  0.365       0.347              2.465  \n",
       "4  0.330       0.458              2.452  "
      ]
     },
     "execution_count": 8,
     "metadata": {},
     "output_type": "execute_result"
    }
   ],
   "source": [
    "df.head()"
   ]
  },
  {
   "cell_type": "markdown",
   "id": "53c9c2bc",
   "metadata": {},
   "source": [
    "### 04. Exploring data using scatterplot "
   ]
  },
  {
   "cell_type": "code",
   "execution_count": 10,
   "id": "129523db",
   "metadata": {},
   "outputs": [
    {
     "data": {
      "text/plain": [
       "<seaborn.axisgrid.FacetGrid at 0x190e8d75820>"
      ]
     },
     "execution_count": 10,
     "metadata": {},
     "output_type": "execute_result"
    },
    {
     "data": {
      "image/png": "[encoded data removed]",
      "text/plain": [
       "<Figure size 360x360 with 1 Axes>"
      ]
     },
     "metadata": {
      "needs_background": "light"
     },
     "output_type": "display_data"
    }
   ],
   "source": [
    "# Looking at the variables \"Economy\" and \"Score\"\n",
    "\n",
    "sns.lmplot(x = 'Economy', y = 'Score', data = df)"
   ]
  },
  {
   "cell_type": "markdown",
   "id": "62dbab6e",
   "metadata": {},
   "source": [
    "### 05. Hypothesis:\n",
    "\n",
    "### The higher the Economy score, the higher the Happiness Score."
   ]
  },
  {
   "cell_type": "markdown",
   "id": "53293c0a",
   "metadata": {},
   "source": [
    "### 06. Reshape the variables into NumPy arrays"
   ]
  },
  {
   "cell_type": "code",
   "execution_count": 11,
   "id": "660c5bbd",
   "metadata": {},
   "outputs": [],
   "source": [
    "# X being the independent variable and y being the dependent variable\n",
    "\n",
    "x = df['Economy'].values.reshape(-1,1)\n",
    "y = df['Score'].values.reshape(-1,1)"
   ]
  },
  {
   "cell_type": "code",
   "execution_count": 12,
   "id": "73744066",
   "metadata": {},
   "outputs": [
    {
     "data": {
      "text/plain": [
       "array([[1.397],\n",
       "       [1.302],\n",
       "       [1.325],\n",
       "       ...,\n",
       "       [0.947],\n",
       "       [1.392],\n",
       "       [0.758]])"
      ]
     },
     "execution_count": 12,
     "metadata": {},
     "output_type": "execute_result"
    }
   ],
   "source": [
    "x"
   ]
  },
  {
   "cell_type": "markdown",
   "id": "bf77b605",
   "metadata": {},
   "source": [
    "### 07. Splitting data into training and test sets"
   ]
  },
  {
   "cell_type": "code",
   "execution_count": 13,
   "id": "20be5eec",
   "metadata": {},
   "outputs": [],
   "source": [
    "X_train, X_test, y_train, y_test = train_test_split(x,y,test_size=0.3, random_state=0)"
   ]
  },
  {
   "cell_type": "markdown",
   "id": "7a288811",
   "metadata": {},
   "source": [
    "### 08. Run a linear regression on the data"
   ]
  },
  {
   "cell_type": "code",
   "execution_count": 14,
   "id": "6c079c0f",
   "metadata": {},
   "outputs": [],
   "source": [
    "# Create a regression object\n",
    "\n",
    "regression = LinearRegression()"
   ]
  },
  {
   "cell_type": "code",
   "execution_count": 15,
   "id": "65dbd7d3",
   "metadata": {},
   "outputs": [
    {
     "data": {
      "text/plain": [
       "LinearRegression()"
      ]
     },
     "execution_count": 15,
     "metadata": {},
     "output_type": "execute_result"
    }
   ],
   "source": [
    "# Fit the regression object to the training data for each variable:\n",
    "\n",
    "regression.fit(X_train, y_train)"
   ]
  },
  {
   "cell_type": "code",
   "execution_count": 16,
   "id": "3c785d58",
   "metadata": {},
   "outputs": [],
   "source": [
    "# Predict the values of y using X\n",
    "\n",
    "y_predicted = regression.predict(X_test)"
   ]
  },
  {
   "cell_type": "markdown",
   "id": "ac3950b5",
   "metadata": {},
   "source": [
    "### 09. Create a plot that shows the regression line on the test set"
   ]
  },
  {
   "cell_type": "code",
   "execution_count": 18,
   "id": "d8999769",
   "metadata": {},
   "outputs": [
    {
     "data": {
      "image/png": "[encoded data removed]",
      "text/plain": [
       "<Figure size 432x288 with 1 Axes>"
      ]
     },
     "metadata": {
      "needs_background": "light"
     },
     "output_type": "display_data"
    }
   ],
   "source": [
    "# Regression line from the model on the test set\n",
    "\n",
    "plot_test = plt\n",
    "plot_test.scatter(X_test, y_test, color='gray', s = 15)\n",
    "plot_test.plot(X_test, y_predicted, color='red', linewidth =3)\n",
    "plot_test.title('Economy vs Happiness Score (Test set)')\n",
    "plot_test.xlabel('Economy')\n",
    "plot_test.ylabel('Happiness Score')\n",
    "plot_test.show()"
   ]
  },
  {
   "cell_type": "code",
   "execution_count": 23,
   "id": "688f1dfd",
   "metadata": {},
   "outputs": [
    {
     "data": {
      "text/plain": [
       "<module 'matplotlib.pyplot' from 'C:\\\\Users\\\\caden\\\\anaconda3\\\\lib\\\\site-packages\\\\matplotlib\\\\pyplot.py'>"
      ]
     },
     "execution_count": 23,
     "metadata": {},
     "output_type": "execute_result"
    }
   ],
   "source": []
  },
  {
   "cell_type": "markdown",
   "id": "5ba6b565",
   "metadata": {},
   "source": [
    "### 10. Interpretation:\n",
    "\n",
    "#### There appears to be a positive correlation between the two variables. As The Economy score goes up, so too does the Happiness score."
   ]
  },
  {
   "cell_type": "markdown",
   "id": "2a140737",
   "metadata": {},
   "source": [
    "### 11. Check the model performance statistics"
   ]
  },
  {
   "cell_type": "code",
   "execution_count": 19,
   "id": "efab49dc",
   "metadata": {},
   "outputs": [],
   "source": [
    "# Create objects that contain the model summary statistics\n",
    "\n",
    "rmse = mean_squared_error(y_test, y_predicted) # This is the mean squared error\n",
    "r2 = r2_score(y_test, y_predicted) # This is the R2 score"
   ]
  },
  {
   "cell_type": "code",
   "execution_count": 20,
   "id": "b5539411",
   "metadata": {},
   "outputs": [
    {
     "name": "stdout",
     "output_type": "stream",
     "text": [
      "Slope: [[1.89724572]]\n",
      "Mean squared error:  0.5857099850306919\n",
      "R2 score:  0.5429783135559836\n"
     ]
    }
   ],
   "source": [
    "# Print the model summary statistics\n",
    "\n",
    "print('Slope:' ,regression.coef_)\n",
    "print('Mean squared error: ', rmse)\n",
    "print('R2 score: ', r2)"
   ]
  },
  {
   "cell_type": "markdown",
   "id": "5e1583e8",
   "metadata": {},
   "source": [
    "### 12. Compare predicted y values to actual y values"
   ]
  },
  {
   "cell_type": "code",
   "execution_count": 21,
   "id": "405127e6",
   "metadata": {},
   "outputs": [
    {
     "data": {
      "text/html": [
       "<div>\n",
       "<style scoped>\n",
       "    .dataframe tbody tr th:only-of-type {\n",
       "        vertical-align: middle;\n",
       "    }\n",
       "\n",
       "    .dataframe tbody tr th {\n",
       "        vertical-align: top;\n",
       "    }\n",
       "\n",
       "    .dataframe thead th {\n",
       "        text-align: right;\n",
       "    }\n",
       "</style>\n",
       "<table border=\"1\" class=\"dataframe\">\n",
       "  <thead>\n",
       "    <tr style=\"text-align: right;\">\n",
       "      <th></th>\n",
       "      <th>Actual</th>\n",
       "      <th>Predicted</th>\n",
       "    </tr>\n",
       "  </thead>\n",
       "  <tbody>\n",
       "    <tr>\n",
       "      <th>0</th>\n",
       "      <td>6.937</td>\n",
       "      <td>6.063903</td>\n",
       "    </tr>\n",
       "    <tr>\n",
       "      <th>1</th>\n",
       "      <td>6.454</td>\n",
       "      <td>5.893151</td>\n",
       "    </tr>\n",
       "    <tr>\n",
       "      <th>2</th>\n",
       "      <td>3.349</td>\n",
       "      <td>4.551798</td>\n",
       "    </tr>\n",
       "    <tr>\n",
       "      <th>3</th>\n",
       "      <td>4.483</td>\n",
       "      <td>5.760344</td>\n",
       "    </tr>\n",
       "    <tr>\n",
       "      <th>4</th>\n",
       "      <td>5.515</td>\n",
       "      <td>5.722399</td>\n",
       "    </tr>\n",
       "    <tr>\n",
       "      <th>5</th>\n",
       "      <td>5.925</td>\n",
       "      <td>5.200656</td>\n",
       "    </tr>\n",
       "    <tr>\n",
       "      <th>6</th>\n",
       "      <td>5.711</td>\n",
       "      <td>6.786754</td>\n",
       "    </tr>\n",
       "    <tr>\n",
       "      <th>7</th>\n",
       "      <td>5.878</td>\n",
       "      <td>5.024212</td>\n",
       "    </tr>\n",
       "    <tr>\n",
       "      <th>8</th>\n",
       "      <td>4.596</td>\n",
       "      <td>5.325874</td>\n",
       "    </tr>\n",
       "    <tr>\n",
       "      <th>9</th>\n",
       "      <td>6.436</td>\n",
       "      <td>5.100102</td>\n",
       "    </tr>\n",
       "    <tr>\n",
       "      <th>10</th>\n",
       "      <td>7.406</td>\n",
       "      <td>6.029753</td>\n",
       "    </tr>\n",
       "    <tr>\n",
       "      <th>11</th>\n",
       "      <td>5.718</td>\n",
       "      <td>5.978527</td>\n",
       "    </tr>\n",
       "    <tr>\n",
       "      <th>12</th>\n",
       "      <td>3.739</td>\n",
       "      <td>4.189424</td>\n",
       "    </tr>\n",
       "    <tr>\n",
       "      <th>13</th>\n",
       "      <td>5.953</td>\n",
       "      <td>4.718756</td>\n",
       "    </tr>\n",
       "    <tr>\n",
       "      <th>14</th>\n",
       "      <td>5.833</td>\n",
       "      <td>5.758446</td>\n",
       "    </tr>\n",
       "    <tr>\n",
       "      <th>15</th>\n",
       "      <td>6.046</td>\n",
       "      <td>5.978527</td>\n",
       "    </tr>\n",
       "    <tr>\n",
       "      <th>16</th>\n",
       "      <td>5.261</td>\n",
       "      <td>4.627688</td>\n",
       "    </tr>\n",
       "    <tr>\n",
       "      <th>17</th>\n",
       "      <td>7.646</td>\n",
       "      <td>6.099951</td>\n",
       "    </tr>\n",
       "    <tr>\n",
       "      <th>18</th>\n",
       "      <td>6.106</td>\n",
       "      <td>7.194661</td>\n",
       "    </tr>\n",
       "    <tr>\n",
       "      <th>19</th>\n",
       "      <td>4.918</td>\n",
       "      <td>5.084924</td>\n",
       "    </tr>\n",
       "    <tr>\n",
       "      <th>20</th>\n",
       "      <td>3.999</td>\n",
       "      <td>4.073692</td>\n",
       "    </tr>\n",
       "    <tr>\n",
       "      <th>21</th>\n",
       "      <td>7.157</td>\n",
       "      <td>6.192916</td>\n",
       "    </tr>\n",
       "    <tr>\n",
       "      <th>22</th>\n",
       "      <td>6.003</td>\n",
       "      <td>5.308799</td>\n",
       "    </tr>\n",
       "    <tr>\n",
       "      <th>23</th>\n",
       "      <td>4.574</td>\n",
       "      <td>5.411250</td>\n",
       "    </tr>\n",
       "    <tr>\n",
       "      <th>24</th>\n",
       "      <td>5.466</td>\n",
       "      <td>4.546106</td>\n",
       "    </tr>\n",
       "    <tr>\n",
       "      <th>25</th>\n",
       "      <td>7.034</td>\n",
       "      <td>7.232606</td>\n",
       "    </tr>\n",
       "    <tr>\n",
       "      <th>26</th>\n",
       "      <td>4.315</td>\n",
       "      <td>5.084924</td>\n",
       "    </tr>\n",
       "    <tr>\n",
       "      <th>27</th>\n",
       "      <td>7.504</td>\n",
       "      <td>6.099951</td>\n",
       "    </tr>\n",
       "    <tr>\n",
       "      <th>28</th>\n",
       "      <td>4.721</td>\n",
       "      <td>5.536469</td>\n",
       "    </tr>\n",
       "    <tr>\n",
       "      <th>29</th>\n",
       "      <td>4.325</td>\n",
       "      <td>5.460579</td>\n",
       "    </tr>\n",
       "  </tbody>\n",
       "</table>\n",
       "</div>"
      ],
      "text/plain": [
       "    Actual  Predicted\n",
       "0    6.937   6.063903\n",
       "1    6.454   5.893151\n",
       "2    3.349   4.551798\n",
       "3    4.483   5.760344\n",
       "4    5.515   5.722399\n",
       "5    5.925   5.200656\n",
       "6    5.711   6.786754\n",
       "7    5.878   5.024212\n",
       "8    4.596   5.325874\n",
       "9    6.436   5.100102\n",
       "10   7.406   6.029753\n",
       "11   5.718   5.978527\n",
       "12   3.739   4.189424\n",
       "13   5.953   4.718756\n",
       "14   5.833   5.758446\n",
       "15   6.046   5.978527\n",
       "16   5.261   4.627688\n",
       "17   7.646   6.099951\n",
       "18   6.106   7.194661\n",
       "19   4.918   5.084924\n",
       "20   3.999   4.073692\n",
       "21   7.157   6.192916\n",
       "22   6.003   5.308799\n",
       "23   4.574   5.411250\n",
       "24   5.466   4.546106\n",
       "25   7.034   7.232606\n",
       "26   4.315   5.084924\n",
       "27   7.504   6.099951\n",
       "28   4.721   5.536469\n",
       "29   4.325   5.460579"
      ]
     },
     "execution_count": 21,
     "metadata": {},
     "output_type": "execute_result"
    }
   ],
   "source": [
    "# Create a dataframe comparing the actual and predicted values of y\n",
    "\n",
    "data = pd.DataFrame({'Actual': y_test.flatten(), 'Predicted': y_predicted.flatten()})\n",
    "data.head(30)"
   ]
  },
  {
   "cell_type": "markdown",
   "id": "ba88308c",
   "metadata": {},
   "source": [
    "### Thoughts"
   ]
  },
  {
   "cell_type": "markdown",
   "id": "0d93cafe",
   "metadata": {},
   "source": [
    "#### The slope of 1.89724572 suggests that there is a positive relationship betweent the variables. Since the MSE score of 0.585 is small, it means that the regression line is a good fit. The R2 score of 0.54 is on the positive side of being a good fit, but only marginally. The actual and predicted values are also not too far off. All tests point to the Economy score being a positive indicator of a country's overall Happiness Score.\n",
    "\n",
    "#### One bias would be the limiited number of data points."
   ]
  },
  {
   "cell_type": "code",
   "execution_count": null,
   "id": "5a818ee5",
   "metadata": {},
   "outputs": [],
   "source": []
  }
 ],
 "metadata": {
  "kernelspec": {
   "display_name": "Python 3 (ipykernel)",
   "language": "python",
   "name": "python3"
  },
  "language_info": {
   "codemirror_mode": {
    "name": "ipython",
    "version": 3
   },
   "file_extension": ".py",
   "mimetype": "text/x-python",
   "name": "python",
   "nbconvert_exporter": "python",
   "pygments_lexer": "ipython3",
   "version": "3.9.12"
  }
 },
 "nbformat": 4,
 "nbformat_minor": 5
}
